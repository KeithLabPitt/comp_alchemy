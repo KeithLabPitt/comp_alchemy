{
 "cells": [
  {
   "cell_type": "markdown",
   "metadata": {},
   "source": [
    "# Running Computational Alchemy for Catalysis: Binding Energy Predictions\n",
    "This notebook outlines Python functions that use information from VASP calculations to predict descriptors for hypothetical catalyst. These functions utilize tools from the Atomic Simulation Environment (ASE) to manipulate catalyst surface models and perform calculations with computational alchemy.\n",
    "\n",
    "In this example, we apply computational alchemy on reference calculcations of H binding on Pt(111) to predict binding energies (BEs) of H on hypothetical alloys of Pt(111).\n",
    "\n",
    "This package can be installed through pip using the following command:\n",
    "\n",
    "`pip install git+https://github.com/KeithLabPitt/comp_alchemy.git`"
   ]
  },
  {
   "cell_type": "code",
   "execution_count": 42,
   "metadata": {},
   "outputs": [],
   "source": [
    "from phystone import alchemy, benchmark, elec_stat_pot\n",
    "import numpy as np\n",
    "import pandas as pd"
   ]
  },
  {
   "cell_type": "markdown",
   "metadata": {},
   "source": [
    "Here we create an Alchemy object with the `Alchemy()` class. The only inputs needed are the paths to VASP calculations of the slab and the slab with the adsorbate, respectively. Both of these directories must contain files of completed VASP calculations. Particularly, this class needs to read the POSCAR, CONTCAR, OSZICAR, and OUTCAR. "
   ]
  },
  {
   "cell_type": "code",
   "execution_count": 43,
   "metadata": {},
   "outputs": [],
   "source": [
    "h_pt = alchemy.Alchemy('Pt-slab-2x2/','Pt-slab-2x2-H-ontop/')"
   ]
  },
  {
   "cell_type": "markdown",
   "metadata": {},
   "source": [
    "An Alchemy object has several attributes defined initially. Below we can obtain ASE Atoms objects of the POSCAR and CONTCAR for the bare slab (`slab`,`slab_contcar`) and the slab with an adsorbate (`ads`,`ads_contcar`) for visualization or other manipulations. "
   ]
  },
  {
   "cell_type": "code",
   "execution_count": 44,
   "metadata": {},
   "outputs": [],
   "source": [
    "slab = h_pt.slab\n",
    "ads = h_pt.ads\n",
    "\n",
    "slab_contcar = h_pt.slab_contcar\n",
    "ads_contcar = h_pt.ads_contcar"
   ]
  },
  {
   "cell_type": "markdown",
   "metadata": {},
   "source": [
    "## Calculating alchemical potentials\n",
    "The `Alchemy()` class also grabs the atom-centered electrostatic potential (ESP) from the OUTCAR files for slab and ads (`Alchemy().slab_esp` and `Alchemy().ads_esp`). The ESP differences are then calculated between ads and slab (`Alchemy().esp_diff`), giving us the alchemical potential that are used to make predictions with Alchemy. These are all printed below."
   ]
  },
  {
   "cell_type": "code",
   "execution_count": 45,
   "metadata": {},
   "outputs": [
    {
     "name": "stdout",
     "output_type": "stream",
     "text": [
      "\n",
      "Atom-centered electrostatic potentials:\n",
      "Slab:\n",
      "[-74.4101, -74.4101, -74.4101, -74.4101, -74.8774, -74.8774, -74.8774, -74.8774, -74.8682, -74.8682, -74.8682, -74.8682, -74.3933, -74.3933, -74.3933, -74.3933]\n",
      "\n",
      "Ads:\n",
      "[-74.2705, -74.2908, -74.2908, -74.2908, -74.777, -74.777, -74.777, -74.6489, -74.7431, -74.7626, -74.7431, -74.7431, -74.7717, -74.3295, -74.3295, -74.3295, -37.4665]\n",
      "\n",
      "Differences in electrostatic potentials between ads and slab\n",
      "[ 0.1396  0.1193  0.1193  0.1193  0.1004  0.1004  0.1004  0.2285  0.1251\n",
      "  0.1056  0.1251  0.1251 -0.3784  0.0638  0.0638  0.0638]\n"
     ]
    }
   ],
   "source": [
    "print(f'''\n",
    "Atom-centered electrostatic potentials:\n",
    "Slab:\n",
    "{h_pt.slab_esp}\n",
    "\n",
    "Ads:\n",
    "{h_pt.ads_esp}\n",
    "\n",
    "Differences in electrostatic potentials between ads and slab\n",
    "{np.round(h_pt.esp_diff,4)}''')"
   ]
  },
  {
   "cell_type": "markdown",
   "metadata": {},
   "source": [
    "### Visualizing alchemical derivatives\n",
    "With the `heatmap()` function, visualize the alchemical derivatives with ASE GUI by running the cell below, pressing \"c\" in ASE GUI, and under \"Choose how the atoms are colored:\" selecting \"By initial charge.\" You may need to uncomment `view(slab_vis)`. "
   ]
  },
  {
   "cell_type": "code",
   "execution_count": 46,
   "metadata": {},
   "outputs": [],
   "source": [
    "from ase.visualize import view\n",
    "slab_vis = elec_stat_pot.heatmap(slab,h_pt.esp_diff)\n",
    "#view(slab_vis)"
   ]
  },
  {
   "cell_type": "markdown",
   "metadata": {},
   "source": [
    "## Doing Alchemy:\n",
    "### Making hypothetical materials with alchemical transmutations and calculating alchemical derivatives\n",
    "Now that an `Alchemy()` object has been created, we can do alchemy with it. The `Alchemy().do_alchemy()` method produces a Pandas DataFrame with information about systems we create and their predicted alchemical derivatives. So how can we control what systems we create? The inputs to this method allow us to customize how we explore materials. \n",
    "\n",
    "The main constraints that must be taken into consideration is that for every atom transmuted at the surface (top) of the slab model by some nuclear charge change ($\\Delta Z$), we must perform a counter transmutation of the opposite nuclear charge change ($-\\Delta Z$) to make our overall change isoelectronic. \n",
    "\n",
    "With that, here is how the inputs should be specified:\n",
    "\n",
    "`delta_nuclear_charge` : How much the nuclear charge changes when transmuting an atom in the reference system ($\\Delta Z$). This should be an integer.\n",
    "\n",
    "`number_of_transmutations` : How many atoms in the reference system are transmuted at once. This should be an integer that is less than the number of atoms in the top half of the slab model.\n",
    "\n",
    "`top_atom` : Chemical symbol of the atom in the top surface layer of the reference slab that will be transmuted by $\\Delta Z$. This should be a string.\n",
    "\n",
    "`bottom_atom` : Chemical symbol of the atom in the bottom surface layer of the reference slab that will be counter transmuted by $-\\Delta Z$. This should be a string.\n",
    "\n",
    "`transmute_num` : The number of possible sites we could transmute in the top layer. `transmute_num` >= `number_of_transmutations`\n",
    "\n",
    "`counter_num` : The number of possible sites we could counter transmute in the bottom layer. `counter_num` >= `number_of_transmutations` \n",
    "\n",
    "`symmetric` : Boolean that tells whether or not the slab used is symmetric. If `True`, symmetric transmutations will be made. This values is defaulted to `False`.\n"
   ]
  },
  {
   "cell_type": "code",
   "execution_count": 47,
   "metadata": {},
   "outputs": [],
   "source": [
    "h_pt_Alc = h_pt.do_alchemy(delta_nuclear_charge=1,\n",
    "                              number_of_transmutations=1,\n",
    "                              top_atom='Pt',\n",
    "                              bottom_atom='Pt',\n",
    "                              transmute_num=8,\n",
    "                              counter_num=1,\n",
    "                              symmetric=False)"
   ]
  },
  {
   "cell_type": "markdown",
   "metadata": {},
   "source": [
    "In the call to `do_alchemy()` above, we specify that we want to transmute 1 Pt atom by $\\Delta Z = 1$ nuclear charge change. We also specify that we wish to make transmutations out of 8 possible sites in our model, and we choose to only make counter transmutations to 1 site in our model. This means that this method will only create 8 hypothetical materials. If instead we set `counter_num` to 2, we would make 16 hypothetical materials (one of 8 top sites transmuted and one of 2 bottom sites counter transmuted)."
   ]
  },
  {
   "cell_type": "markdown",
   "metadata": {},
   "source": [
    "Below we print out the DataFrame with all the information about our Alchemy analysis. Each row corresponds to a hypothetical material created in the analysis. Here's a description of the columns:\n",
    "\n",
    "`label` : Identifier that describes the hypothetical material.\n",
    "\n",
    "`delta nuclear charge` : $\\Delta Z$ value provided in `do_alchemy()`\n",
    "\n",
    "`transmute indexes` : List of indexes of atoms transmuted. These match the indexes of atoms in the Atoms objects `slab` and `slab_contcar`.\n",
    "\n",
    "`transmute espdiff` : List of ESP differences located at the atoms indicated by the `transmute indexes` column.\n",
    "\n",
    "`counter indexes` : List of indexes of atoms counter transmuted. These match the indexes of atoms in the Atoms objects `slab` and `slab_contcar`.\n",
    "\n",
    "`counter espdiff` : List of ESP differences located at the atoms indicated by the `counter indexes` column.\n",
    "\n",
    "`alchemical derivative` : Quantity predicted with Alchemy. For this case, this quanitity is equal to $\\Delta BE = BE_\\text{H on Pt alloy} - BE_\\text{H on Pt}$.\n",
    "\n",
    "`slab atoms object` and `ads atoms object`: Atoms objects of hypothetical materials made by transmutations of `slab_contcar` and `ads_contcar`, respectively."
   ]
  },
  {
   "cell_type": "code",
   "execution_count": 48,
   "metadata": {},
   "outputs": [
    {
     "data": {
      "text/html": [
       "<div>\n",
       "<style scoped>\n",
       "    .dataframe tbody tr th:only-of-type {\n",
       "        vertical-align: middle;\n",
       "    }\n",
       "\n",
       "    .dataframe tbody tr th {\n",
       "        vertical-align: top;\n",
       "    }\n",
       "\n",
       "    .dataframe thead th {\n",
       "        text-align: right;\n",
       "    }\n",
       "</style>\n",
       "<table border=\"1\" class=\"dataframe\">\n",
       "  <thead>\n",
       "    <tr style=\"text-align: right;\">\n",
       "      <th></th>\n",
       "      <th>label</th>\n",
       "      <th>delta nuclear charge</th>\n",
       "      <th>transmute indexes</th>\n",
       "      <th>transmute espdiff</th>\n",
       "      <th>counter indexes</th>\n",
       "      <th>counter espdiff</th>\n",
       "      <th>alchemical derivative</th>\n",
       "      <th>slab atoms object</th>\n",
       "      <th>ads atoms object</th>\n",
       "    </tr>\n",
       "  </thead>\n",
       "  <tbody>\n",
       "    <tr>\n",
       "      <th>0</th>\n",
       "      <td>0.0.Au12.Ir0</td>\n",
       "      <td>1</td>\n",
       "      <td>[12]</td>\n",
       "      <td>[-0.3783999999999992]</td>\n",
       "      <td>[0]</td>\n",
       "      <td>[0.1396000000000015]</td>\n",
       "      <td>-0.5180</td>\n",
       "      <td>(Atom('Ir', [0.0, 0.0, 11.999999999999966], in...</td>\n",
       "      <td>(Atom('Ir', [0.0, 0.0, 11.999999999999966], in...</td>\n",
       "    </tr>\n",
       "    <tr>\n",
       "      <th>1</th>\n",
       "      <td>0.1.Au13.Ir0</td>\n",
       "      <td>1</td>\n",
       "      <td>[13]</td>\n",
       "      <td>[0.06380000000000052]</td>\n",
       "      <td>[0]</td>\n",
       "      <td>[0.1396000000000015]</td>\n",
       "      <td>-0.0758</td>\n",
       "      <td>(Atom('Ir', [0.0, 0.0, 11.999999999999966], in...</td>\n",
       "      <td>(Atom('Ir', [0.0, 0.0, 11.999999999999966], in...</td>\n",
       "    </tr>\n",
       "    <tr>\n",
       "      <th>2</th>\n",
       "      <td>0.2.Au14.Ir0</td>\n",
       "      <td>1</td>\n",
       "      <td>[14]</td>\n",
       "      <td>[0.06380000000000052]</td>\n",
       "      <td>[0]</td>\n",
       "      <td>[0.1396000000000015]</td>\n",
       "      <td>-0.0758</td>\n",
       "      <td>(Atom('Ir', [0.0, 0.0, 11.999999999999966], in...</td>\n",
       "      <td>(Atom('Ir', [0.0, 0.0, 11.999999999999966], in...</td>\n",
       "    </tr>\n",
       "    <tr>\n",
       "      <th>3</th>\n",
       "      <td>0.3.Au15.Ir0</td>\n",
       "      <td>1</td>\n",
       "      <td>[15]</td>\n",
       "      <td>[0.06380000000000052]</td>\n",
       "      <td>[0]</td>\n",
       "      <td>[0.1396000000000015]</td>\n",
       "      <td>-0.0758</td>\n",
       "      <td>(Atom('Ir', [0.0, 0.0, 11.999999999999966], in...</td>\n",
       "      <td>(Atom('Ir', [0.0, 0.0, 11.999999999999966], in...</td>\n",
       "    </tr>\n",
       "    <tr>\n",
       "      <th>4</th>\n",
       "      <td>0.4.Au8.Ir0</td>\n",
       "      <td>1</td>\n",
       "      <td>[8]</td>\n",
       "      <td>[0.12510000000000332]</td>\n",
       "      <td>[0]</td>\n",
       "      <td>[0.1396000000000015]</td>\n",
       "      <td>-0.0145</td>\n",
       "      <td>(Atom('Ir', [0.0, 0.0, 11.999999999999966], in...</td>\n",
       "      <td>(Atom('Ir', [0.0, 0.0, 11.999999999999966], in...</td>\n",
       "    </tr>\n",
       "    <tr>\n",
       "      <th>5</th>\n",
       "      <td>0.5.Au9.Ir0</td>\n",
       "      <td>1</td>\n",
       "      <td>[9]</td>\n",
       "      <td>[0.10559999999999548]</td>\n",
       "      <td>[0]</td>\n",
       "      <td>[0.1396000000000015]</td>\n",
       "      <td>-0.0340</td>\n",
       "      <td>(Atom('Ir', [0.0, 0.0, 11.999999999999966], in...</td>\n",
       "      <td>(Atom('Ir', [0.0, 0.0, 11.999999999999966], in...</td>\n",
       "    </tr>\n",
       "    <tr>\n",
       "      <th>6</th>\n",
       "      <td>0.6.Au10.Ir0</td>\n",
       "      <td>1</td>\n",
       "      <td>[10]</td>\n",
       "      <td>[0.12510000000000332]</td>\n",
       "      <td>[0]</td>\n",
       "      <td>[0.1396000000000015]</td>\n",
       "      <td>-0.0145</td>\n",
       "      <td>(Atom('Ir', [0.0, 0.0, 11.999999999999966], in...</td>\n",
       "      <td>(Atom('Ir', [0.0, 0.0, 11.999999999999966], in...</td>\n",
       "    </tr>\n",
       "    <tr>\n",
       "      <th>7</th>\n",
       "      <td>0.7.Au11.Ir0</td>\n",
       "      <td>1</td>\n",
       "      <td>[11]</td>\n",
       "      <td>[0.12510000000000332]</td>\n",
       "      <td>[0]</td>\n",
       "      <td>[0.1396000000000015]</td>\n",
       "      <td>-0.0145</td>\n",
       "      <td>(Atom('Ir', [0.0, 0.0, 11.999999999999966], in...</td>\n",
       "      <td>(Atom('Ir', [0.0, 0.0, 11.999999999999966], in...</td>\n",
       "    </tr>\n",
       "  </tbody>\n",
       "</table>\n",
       "</div>"
      ],
      "text/plain": [
       "          label delta nuclear charge transmute indexes      transmute espdiff  \\\n",
       "0  0.0.Au12.Ir0                    1              [12]  [-0.3783999999999992]   \n",
       "1  0.1.Au13.Ir0                    1              [13]  [0.06380000000000052]   \n",
       "2  0.2.Au14.Ir0                    1              [14]  [0.06380000000000052]   \n",
       "3  0.3.Au15.Ir0                    1              [15]  [0.06380000000000052]   \n",
       "4   0.4.Au8.Ir0                    1               [8]  [0.12510000000000332]   \n",
       "5   0.5.Au9.Ir0                    1               [9]  [0.10559999999999548]   \n",
       "6  0.6.Au10.Ir0                    1              [10]  [0.12510000000000332]   \n",
       "7  0.7.Au11.Ir0                    1              [11]  [0.12510000000000332]   \n",
       "\n",
       "  counter indexes       counter espdiff  alchemical derivative  \\\n",
       "0             [0]  [0.1396000000000015]                -0.5180   \n",
       "1             [0]  [0.1396000000000015]                -0.0758   \n",
       "2             [0]  [0.1396000000000015]                -0.0758   \n",
       "3             [0]  [0.1396000000000015]                -0.0758   \n",
       "4             [0]  [0.1396000000000015]                -0.0145   \n",
       "5             [0]  [0.1396000000000015]                -0.0340   \n",
       "6             [0]  [0.1396000000000015]                -0.0145   \n",
       "7             [0]  [0.1396000000000015]                -0.0145   \n",
       "\n",
       "                                   slab atoms object  \\\n",
       "0  (Atom('Ir', [0.0, 0.0, 11.999999999999966], in...   \n",
       "1  (Atom('Ir', [0.0, 0.0, 11.999999999999966], in...   \n",
       "2  (Atom('Ir', [0.0, 0.0, 11.999999999999966], in...   \n",
       "3  (Atom('Ir', [0.0, 0.0, 11.999999999999966], in...   \n",
       "4  (Atom('Ir', [0.0, 0.0, 11.999999999999966], in...   \n",
       "5  (Atom('Ir', [0.0, 0.0, 11.999999999999966], in...   \n",
       "6  (Atom('Ir', [0.0, 0.0, 11.999999999999966], in...   \n",
       "7  (Atom('Ir', [0.0, 0.0, 11.999999999999966], in...   \n",
       "\n",
       "                                    ads atoms object  \n",
       "0  (Atom('Ir', [0.0, 0.0, 11.999999999999966], in...  \n",
       "1  (Atom('Ir', [0.0, 0.0, 11.999999999999966], in...  \n",
       "2  (Atom('Ir', [0.0, 0.0, 11.999999999999966], in...  \n",
       "3  (Atom('Ir', [0.0, 0.0, 11.999999999999966], in...  \n",
       "4  (Atom('Ir', [0.0, 0.0, 11.999999999999966], in...  \n",
       "5  (Atom('Ir', [0.0, 0.0, 11.999999999999966], in...  \n",
       "6  (Atom('Ir', [0.0, 0.0, 11.999999999999966], in...  \n",
       "7  (Atom('Ir', [0.0, 0.0, 11.999999999999966], in...  "
      ]
     },
     "execution_count": 48,
     "metadata": {},
     "output_type": "execute_result"
    }
   ],
   "source": [
    "h_pt_Alc"
   ]
  },
  {
   "cell_type": "markdown",
   "metadata": {},
   "source": [
    "Run the cell below to view an examples of the transmuted materials made by this method."
   ]
  },
  {
   "cell_type": "code",
   "execution_count": 89,
   "metadata": {},
   "outputs": [],
   "source": [
    "transmuted_slab1 = h_pt_Alc['slab atoms object'][0]\n",
    "transmuted_ads1 = h_pt_Alc['ads atoms object'][0]\n",
    "\n",
    "view(transmuted_slab1)\n",
    "view(transmuted_ads1)"
   ]
  },
  {
   "cell_type": "markdown",
   "metadata": {},
   "source": [
    "We're most interested in the alchemical derivatives. So we'll store these values in a separate DataFrame."
   ]
  },
  {
   "cell_type": "code",
   "execution_count": 49,
   "metadata": {},
   "outputs": [],
   "source": [
    "alc_data = pd.DataFrame({'label':h_pt_Alc['label'],\n",
    "                         'deltaBE_alc':h_pt_Alc['alchemical derivative']})"
   ]
  },
  {
   "cell_type": "code",
   "execution_count": 50,
   "metadata": {},
   "outputs": [
    {
     "data": {
      "text/html": [
       "<div>\n",
       "<style scoped>\n",
       "    .dataframe tbody tr th:only-of-type {\n",
       "        vertical-align: middle;\n",
       "    }\n",
       "\n",
       "    .dataframe tbody tr th {\n",
       "        vertical-align: top;\n",
       "    }\n",
       "\n",
       "    .dataframe thead th {\n",
       "        text-align: right;\n",
       "    }\n",
       "</style>\n",
       "<table border=\"1\" class=\"dataframe\">\n",
       "  <thead>\n",
       "    <tr style=\"text-align: right;\">\n",
       "      <th></th>\n",
       "      <th>label</th>\n",
       "      <th>deltaBE_alc</th>\n",
       "    </tr>\n",
       "  </thead>\n",
       "  <tbody>\n",
       "    <tr>\n",
       "      <th>0</th>\n",
       "      <td>0.0.Au12.Ir0</td>\n",
       "      <td>-0.5180</td>\n",
       "    </tr>\n",
       "    <tr>\n",
       "      <th>1</th>\n",
       "      <td>0.1.Au13.Ir0</td>\n",
       "      <td>-0.0758</td>\n",
       "    </tr>\n",
       "    <tr>\n",
       "      <th>2</th>\n",
       "      <td>0.2.Au14.Ir0</td>\n",
       "      <td>-0.0758</td>\n",
       "    </tr>\n",
       "    <tr>\n",
       "      <th>3</th>\n",
       "      <td>0.3.Au15.Ir0</td>\n",
       "      <td>-0.0758</td>\n",
       "    </tr>\n",
       "    <tr>\n",
       "      <th>4</th>\n",
       "      <td>0.4.Au8.Ir0</td>\n",
       "      <td>-0.0145</td>\n",
       "    </tr>\n",
       "    <tr>\n",
       "      <th>5</th>\n",
       "      <td>0.5.Au9.Ir0</td>\n",
       "      <td>-0.0340</td>\n",
       "    </tr>\n",
       "    <tr>\n",
       "      <th>6</th>\n",
       "      <td>0.6.Au10.Ir0</td>\n",
       "      <td>-0.0145</td>\n",
       "    </tr>\n",
       "    <tr>\n",
       "      <th>7</th>\n",
       "      <td>0.7.Au11.Ir0</td>\n",
       "      <td>-0.0145</td>\n",
       "    </tr>\n",
       "  </tbody>\n",
       "</table>\n",
       "</div>"
      ],
      "text/plain": [
       "          label  deltaBE_alc\n",
       "0  0.0.Au12.Ir0      -0.5180\n",
       "1  0.1.Au13.Ir0      -0.0758\n",
       "2  0.2.Au14.Ir0      -0.0758\n",
       "3  0.3.Au15.Ir0      -0.0758\n",
       "4   0.4.Au8.Ir0      -0.0145\n",
       "5   0.5.Au9.Ir0      -0.0340\n",
       "6  0.6.Au10.Ir0      -0.0145\n",
       "7  0.7.Au11.Ir0      -0.0145"
      ]
     },
     "execution_count": 50,
     "metadata": {},
     "output_type": "execute_result"
    }
   ],
   "source": [
    "alc_data"
   ]
  },
  {
   "cell_type": "markdown",
   "metadata": {},
   "source": [
    "### Benchmarking Alchemy against DFT\n",
    "Next, we can take these new materials, evaluate them with DFT, and see how Alchemy compares. We use `benchmark.setup_vasp_calcs()` to create directories with VASP input files. This function uses the ASE Vasp2 calculator and is programmed to write submission scripts for the H2P supercomputing cluster at the University of Pittsburgh.\n",
    "\n",
    "We call this function below using many inputs. However, there are defaults set for inputs regarding submission script writing (`nodes`,`cores`,`cluster`,`partition`,and `hours`), and the remaining inputs pertain to Vasp2 parameters, which can be defined freely. The user should pay the most attention to the following inputs:\n",
    "\n",
    "`Alchemy` : Provide an Alchemy object like the one created above.\n",
    "\n",
    "`alc_data` : DataFrame created by executing `Alchemy.do_alchemy()` on the same Alchemy object provided in the previous input.\n",
    "\n",
    "`slab` : Boolean that indicates whether or not to setup VASP calculations for the slab. This helps if you are doing alchemy on different cases of adsorbates binding to the same catalyst surface. It's possible that the VASP calculations for the transmuted slabs you need have already been ran. Setting this to `False` prevents more VASP files being written. By default, this is set to `True`. "
   ]
  },
  {
   "cell_type": "code",
   "execution_count": 27,
   "metadata": {},
   "outputs": [],
   "source": [
    "benchmark.setup_vasp_calcs(Alchemy=h_pt,\n",
    "                           alc_data=h_pt_Alc,\n",
    "                          slab=True,\n",
    "                          nodes=1,\n",
    "                          cores=24,\n",
    "                          cluster='smp',\n",
    "                          partition='smp',\n",
    "                          hours=6,\n",
    "                          encut=350,\n",
    "                          ediff=1e-5,\n",
    "                          ediffg=-5e-2,\n",
    "                          xc='PBE',\n",
    "                          ispin=1,\n",
    "                          nsw=0,\n",
    "                          ibrion=2,\n",
    "                          idipol=3,\n",
    "                          ialgo=48,\n",
    "                          lcharg=False,\n",
    "                          lwave=False,\n",
    "                          kpts=(8,8,1))"
   ]
  },
  {
   "cell_type": "markdown",
   "metadata": {},
   "source": [
    "`benchmark.submit_vasp_calcs()` submits the previously setup calculations to the H2P supercomputing cluster at Pitt. Copy the code in the below cell to a Python script that's stored on the cluster and run from the login node."
   ]
  },
  {
   "cell_type": "code",
   "execution_count": 28,
   "metadata": {},
   "outputs": [],
   "source": [
    "#benchmark.submit_vasp_calcs(Alchemy=h_pt,alc_data=h_pt_Alc,slab=True)"
   ]
  },
  {
   "cell_type": "markdown",
   "metadata": {},
   "source": [
    "Once the VASP calculations are done, we can read and analyze the energies with `benchmark.read_vasp_energies()`. This function goes through each directory with transmuted versions of slab and ads, checks the convergence, and reads the energy."
   ]
  },
  {
   "cell_type": "code",
   "execution_count": 84,
   "metadata": {},
   "outputs": [
    {
     "name": "stdout",
     "output_type": "stream",
     "text": [
      "0.0.Au12.Ir0 slab True\n",
      "0.0.Au12.Ir0 ads True\n",
      "0.1.Au13.Ir0 slab True\n",
      "0.1.Au13.Ir0 ads True\n",
      "0.2.Au14.Ir0 slab True\n",
      "0.2.Au14.Ir0 ads True\n",
      "0.3.Au15.Ir0 slab True\n",
      "0.3.Au15.Ir0 ads True\n",
      "0.4.Au8.Ir0 slab True\n",
      "0.4.Au8.Ir0 ads True\n",
      "0.5.Au9.Ir0 slab True\n",
      "0.5.Au9.Ir0 ads True\n",
      "0.6.Au10.Ir0 slab True\n",
      "0.6.Au10.Ir0 ads True\n",
      "0.7.Au11.Ir0 slab True\n",
      "0.7.Au11.Ir0 ads True\n"
     ]
    }
   ],
   "source": [
    "h_pt_Alc_benchmark = benchmark.read_vasp_energies(Alchemy=h_pt,alc_data=h_pt_Alc)"
   ]
  },
  {
   "cell_type": "markdown",
   "metadata": {},
   "source": [
    "Above the function prints the label to the transmuted system, whether its a of slab or ads, and if the calculation is converged. \n",
    "\n",
    "This function then writes more columns to the DataFrame given to `alc_data`. Here's what's in these new columns:\n",
    "\n",
    "`deltaE DFT` : The same quantity being predicted with Alchemy, but calculated here from DFT results. For this case, this quantity is equal to $\\Delta BE = BE_\\text{H on Pt alloy} - BE_\\text{H on Pt}$.\n",
    "\n",
    "`absolute errors` : The absolute value of the difference between the quantities predicted with Alchemy (`alchemical derivative`) and DFT (`deltaE DFT`)."
   ]
  },
  {
   "cell_type": "code",
   "execution_count": 54,
   "metadata": {},
   "outputs": [
    {
     "data": {
      "text/html": [
       "<div>\n",
       "<style scoped>\n",
       "    .dataframe tbody tr th:only-of-type {\n",
       "        vertical-align: middle;\n",
       "    }\n",
       "\n",
       "    .dataframe tbody tr th {\n",
       "        vertical-align: top;\n",
       "    }\n",
       "\n",
       "    .dataframe thead th {\n",
       "        text-align: right;\n",
       "    }\n",
       "</style>\n",
       "<table border=\"1\" class=\"dataframe\">\n",
       "  <thead>\n",
       "    <tr style=\"text-align: right;\">\n",
       "      <th></th>\n",
       "      <th>label</th>\n",
       "      <th>delta nuclear charge</th>\n",
       "      <th>transmute indexes</th>\n",
       "      <th>transmute espdiff</th>\n",
       "      <th>counter indexes</th>\n",
       "      <th>counter espdiff</th>\n",
       "      <th>alchemical derivative</th>\n",
       "      <th>slab atoms object</th>\n",
       "      <th>ads atoms object</th>\n",
       "      <th>deltaE DFT</th>\n",
       "      <th>absolute errors</th>\n",
       "    </tr>\n",
       "  </thead>\n",
       "  <tbody>\n",
       "    <tr>\n",
       "      <th>0</th>\n",
       "      <td>0.0.Au12.Ir0</td>\n",
       "      <td>1</td>\n",
       "      <td>[12]</td>\n",
       "      <td>[-0.3783999999999992]</td>\n",
       "      <td>[0]</td>\n",
       "      <td>[0.1396000000000015]</td>\n",
       "      <td>-0.5180</td>\n",
       "      <td>(Atom('Ir', [0.0, 0.0, 11.999999999999966], in...</td>\n",
       "      <td>(Atom('Ir', [0.0, 0.0, 11.999999999999966], in...</td>\n",
       "      <td>-0.752602</td>\n",
       "      <td>0.234602</td>\n",
       "    </tr>\n",
       "    <tr>\n",
       "      <th>1</th>\n",
       "      <td>0.1.Au13.Ir0</td>\n",
       "      <td>1</td>\n",
       "      <td>[13]</td>\n",
       "      <td>[0.06380000000000052]</td>\n",
       "      <td>[0]</td>\n",
       "      <td>[0.1396000000000015]</td>\n",
       "      <td>-0.0758</td>\n",
       "      <td>(Atom('Ir', [0.0, 0.0, 11.999999999999966], in...</td>\n",
       "      <td>(Atom('Ir', [0.0, 0.0, 11.999999999999966], in...</td>\n",
       "      <td>-0.040725</td>\n",
       "      <td>0.035075</td>\n",
       "    </tr>\n",
       "    <tr>\n",
       "      <th>2</th>\n",
       "      <td>0.2.Au14.Ir0</td>\n",
       "      <td>1</td>\n",
       "      <td>[14]</td>\n",
       "      <td>[0.06380000000000052]</td>\n",
       "      <td>[0]</td>\n",
       "      <td>[0.1396000000000015]</td>\n",
       "      <td>-0.0758</td>\n",
       "      <td>(Atom('Ir', [0.0, 0.0, 11.999999999999966], in...</td>\n",
       "      <td>(Atom('Ir', [0.0, 0.0, 11.999999999999966], in...</td>\n",
       "      <td>-0.040725</td>\n",
       "      <td>0.035075</td>\n",
       "    </tr>\n",
       "    <tr>\n",
       "      <th>3</th>\n",
       "      <td>0.3.Au15.Ir0</td>\n",
       "      <td>1</td>\n",
       "      <td>[15]</td>\n",
       "      <td>[0.06380000000000052]</td>\n",
       "      <td>[0]</td>\n",
       "      <td>[0.1396000000000015]</td>\n",
       "      <td>-0.0758</td>\n",
       "      <td>(Atom('Ir', [0.0, 0.0, 11.999999999999966], in...</td>\n",
       "      <td>(Atom('Ir', [0.0, 0.0, 11.999999999999966], in...</td>\n",
       "      <td>-0.040730</td>\n",
       "      <td>0.035070</td>\n",
       "    </tr>\n",
       "    <tr>\n",
       "      <th>4</th>\n",
       "      <td>0.4.Au8.Ir0</td>\n",
       "      <td>1</td>\n",
       "      <td>[8]</td>\n",
       "      <td>[0.12510000000000332]</td>\n",
       "      <td>[0]</td>\n",
       "      <td>[0.1396000000000015]</td>\n",
       "      <td>-0.0145</td>\n",
       "      <td>(Atom('Ir', [0.0, 0.0, 11.999999999999966], in...</td>\n",
       "      <td>(Atom('Ir', [0.0, 0.0, 11.999999999999966], in...</td>\n",
       "      <td>-0.045665</td>\n",
       "      <td>0.031165</td>\n",
       "    </tr>\n",
       "    <tr>\n",
       "      <th>5</th>\n",
       "      <td>0.5.Au9.Ir0</td>\n",
       "      <td>1</td>\n",
       "      <td>[9]</td>\n",
       "      <td>[0.10559999999999548]</td>\n",
       "      <td>[0]</td>\n",
       "      <td>[0.1396000000000015]</td>\n",
       "      <td>-0.0340</td>\n",
       "      <td>(Atom('Ir', [0.0, 0.0, 11.999999999999966], in...</td>\n",
       "      <td>(Atom('Ir', [0.0, 0.0, 11.999999999999966], in...</td>\n",
       "      <td>-0.020237</td>\n",
       "      <td>0.013763</td>\n",
       "    </tr>\n",
       "    <tr>\n",
       "      <th>6</th>\n",
       "      <td>0.6.Au10.Ir0</td>\n",
       "      <td>1</td>\n",
       "      <td>[10]</td>\n",
       "      <td>[0.12510000000000332]</td>\n",
       "      <td>[0]</td>\n",
       "      <td>[0.1396000000000015]</td>\n",
       "      <td>-0.0145</td>\n",
       "      <td>(Atom('Ir', [0.0, 0.0, 11.999999999999966], in...</td>\n",
       "      <td>(Atom('Ir', [0.0, 0.0, 11.999999999999966], in...</td>\n",
       "      <td>-0.045665</td>\n",
       "      <td>0.031165</td>\n",
       "    </tr>\n",
       "    <tr>\n",
       "      <th>7</th>\n",
       "      <td>0.7.Au11.Ir0</td>\n",
       "      <td>1</td>\n",
       "      <td>[11]</td>\n",
       "      <td>[0.12510000000000332]</td>\n",
       "      <td>[0]</td>\n",
       "      <td>[0.1396000000000015]</td>\n",
       "      <td>-0.0145</td>\n",
       "      <td>(Atom('Ir', [0.0, 0.0, 11.999999999999966], in...</td>\n",
       "      <td>(Atom('Ir', [0.0, 0.0, 11.999999999999966], in...</td>\n",
       "      <td>-0.045665</td>\n",
       "      <td>0.031165</td>\n",
       "    </tr>\n",
       "  </tbody>\n",
       "</table>\n",
       "</div>"
      ],
      "text/plain": [
       "          label delta nuclear charge transmute indexes      transmute espdiff  \\\n",
       "0  0.0.Au12.Ir0                    1              [12]  [-0.3783999999999992]   \n",
       "1  0.1.Au13.Ir0                    1              [13]  [0.06380000000000052]   \n",
       "2  0.2.Au14.Ir0                    1              [14]  [0.06380000000000052]   \n",
       "3  0.3.Au15.Ir0                    1              [15]  [0.06380000000000052]   \n",
       "4   0.4.Au8.Ir0                    1               [8]  [0.12510000000000332]   \n",
       "5   0.5.Au9.Ir0                    1               [9]  [0.10559999999999548]   \n",
       "6  0.6.Au10.Ir0                    1              [10]  [0.12510000000000332]   \n",
       "7  0.7.Au11.Ir0                    1              [11]  [0.12510000000000332]   \n",
       "\n",
       "  counter indexes       counter espdiff  alchemical derivative  \\\n",
       "0             [0]  [0.1396000000000015]                -0.5180   \n",
       "1             [0]  [0.1396000000000015]                -0.0758   \n",
       "2             [0]  [0.1396000000000015]                -0.0758   \n",
       "3             [0]  [0.1396000000000015]                -0.0758   \n",
       "4             [0]  [0.1396000000000015]                -0.0145   \n",
       "5             [0]  [0.1396000000000015]                -0.0340   \n",
       "6             [0]  [0.1396000000000015]                -0.0145   \n",
       "7             [0]  [0.1396000000000015]                -0.0145   \n",
       "\n",
       "                                   slab atoms object  \\\n",
       "0  (Atom('Ir', [0.0, 0.0, 11.999999999999966], in...   \n",
       "1  (Atom('Ir', [0.0, 0.0, 11.999999999999966], in...   \n",
       "2  (Atom('Ir', [0.0, 0.0, 11.999999999999966], in...   \n",
       "3  (Atom('Ir', [0.0, 0.0, 11.999999999999966], in...   \n",
       "4  (Atom('Ir', [0.0, 0.0, 11.999999999999966], in...   \n",
       "5  (Atom('Ir', [0.0, 0.0, 11.999999999999966], in...   \n",
       "6  (Atom('Ir', [0.0, 0.0, 11.999999999999966], in...   \n",
       "7  (Atom('Ir', [0.0, 0.0, 11.999999999999966], in...   \n",
       "\n",
       "                                    ads atoms object  deltaE DFT  \\\n",
       "0  (Atom('Ir', [0.0, 0.0, 11.999999999999966], in...   -0.752602   \n",
       "1  (Atom('Ir', [0.0, 0.0, 11.999999999999966], in...   -0.040725   \n",
       "2  (Atom('Ir', [0.0, 0.0, 11.999999999999966], in...   -0.040725   \n",
       "3  (Atom('Ir', [0.0, 0.0, 11.999999999999966], in...   -0.040730   \n",
       "4  (Atom('Ir', [0.0, 0.0, 11.999999999999966], in...   -0.045665   \n",
       "5  (Atom('Ir', [0.0, 0.0, 11.999999999999966], in...   -0.020237   \n",
       "6  (Atom('Ir', [0.0, 0.0, 11.999999999999966], in...   -0.045665   \n",
       "7  (Atom('Ir', [0.0, 0.0, 11.999999999999966], in...   -0.045665   \n",
       "\n",
       "   absolute errors  \n",
       "0         0.234602  \n",
       "1         0.035075  \n",
       "2         0.035075  \n",
       "3         0.035070  \n",
       "4         0.031165  \n",
       "5         0.013763  \n",
       "6         0.031165  \n",
       "7         0.031165  "
      ]
     },
     "execution_count": 54,
     "metadata": {},
     "output_type": "execute_result"
    }
   ],
   "source": [
    "h_pt_Alc_benchmark"
   ]
  },
  {
   "cell_type": "markdown",
   "metadata": {},
   "source": [
    "Now we'll add this new data to our separate DataFrame made earlier and continue the analysis."
   ]
  },
  {
   "cell_type": "code",
   "execution_count": 58,
   "metadata": {},
   "outputs": [
    {
     "data": {
      "text/html": [
       "<div>\n",
       "<style scoped>\n",
       "    .dataframe tbody tr th:only-of-type {\n",
       "        vertical-align: middle;\n",
       "    }\n",
       "\n",
       "    .dataframe tbody tr th {\n",
       "        vertical-align: top;\n",
       "    }\n",
       "\n",
       "    .dataframe thead th {\n",
       "        text-align: right;\n",
       "    }\n",
       "</style>\n",
       "<table border=\"1\" class=\"dataframe\">\n",
       "  <thead>\n",
       "    <tr style=\"text-align: right;\">\n",
       "      <th></th>\n",
       "      <th>label</th>\n",
       "      <th>deltaBE_alc</th>\n",
       "      <th>deltaBE_dft</th>\n",
       "      <th>absolute errors</th>\n",
       "    </tr>\n",
       "  </thead>\n",
       "  <tbody>\n",
       "    <tr>\n",
       "      <th>0</th>\n",
       "      <td>0.0.Au12.Ir0</td>\n",
       "      <td>-0.5180</td>\n",
       "      <td>-0.752602</td>\n",
       "      <td>0.234602</td>\n",
       "    </tr>\n",
       "    <tr>\n",
       "      <th>1</th>\n",
       "      <td>0.1.Au13.Ir0</td>\n",
       "      <td>-0.0758</td>\n",
       "      <td>-0.040725</td>\n",
       "      <td>0.035075</td>\n",
       "    </tr>\n",
       "    <tr>\n",
       "      <th>2</th>\n",
       "      <td>0.2.Au14.Ir0</td>\n",
       "      <td>-0.0758</td>\n",
       "      <td>-0.040725</td>\n",
       "      <td>0.035075</td>\n",
       "    </tr>\n",
       "    <tr>\n",
       "      <th>3</th>\n",
       "      <td>0.3.Au15.Ir0</td>\n",
       "      <td>-0.0758</td>\n",
       "      <td>-0.040730</td>\n",
       "      <td>0.035070</td>\n",
       "    </tr>\n",
       "    <tr>\n",
       "      <th>4</th>\n",
       "      <td>0.4.Au8.Ir0</td>\n",
       "      <td>-0.0145</td>\n",
       "      <td>-0.045665</td>\n",
       "      <td>0.031165</td>\n",
       "    </tr>\n",
       "    <tr>\n",
       "      <th>5</th>\n",
       "      <td>0.5.Au9.Ir0</td>\n",
       "      <td>-0.0340</td>\n",
       "      <td>-0.020237</td>\n",
       "      <td>0.013763</td>\n",
       "    </tr>\n",
       "    <tr>\n",
       "      <th>6</th>\n",
       "      <td>0.6.Au10.Ir0</td>\n",
       "      <td>-0.0145</td>\n",
       "      <td>-0.045665</td>\n",
       "      <td>0.031165</td>\n",
       "    </tr>\n",
       "    <tr>\n",
       "      <th>7</th>\n",
       "      <td>0.7.Au11.Ir0</td>\n",
       "      <td>-0.0145</td>\n",
       "      <td>-0.045665</td>\n",
       "      <td>0.031165</td>\n",
       "    </tr>\n",
       "  </tbody>\n",
       "</table>\n",
       "</div>"
      ],
      "text/plain": [
       "          label  deltaBE_alc  deltaBE_dft  absolute errors\n",
       "0  0.0.Au12.Ir0      -0.5180    -0.752602         0.234602\n",
       "1  0.1.Au13.Ir0      -0.0758    -0.040725         0.035075\n",
       "2  0.2.Au14.Ir0      -0.0758    -0.040725         0.035075\n",
       "3  0.3.Au15.Ir0      -0.0758    -0.040730         0.035070\n",
       "4   0.4.Au8.Ir0      -0.0145    -0.045665         0.031165\n",
       "5   0.5.Au9.Ir0      -0.0340    -0.020237         0.013763\n",
       "6  0.6.Au10.Ir0      -0.0145    -0.045665         0.031165\n",
       "7  0.7.Au11.Ir0      -0.0145    -0.045665         0.031165"
      ]
     },
     "execution_count": 58,
     "metadata": {},
     "output_type": "execute_result"
    }
   ],
   "source": [
    "alc_data['deltaBE_dft'] = h_pt_Alc_benchmark['deltaE DFT']\n",
    "alc_data['absolute errors'] = h_pt_Alc_benchmark['absolute errors']\n",
    "alc_data"
   ]
  },
  {
   "cell_type": "markdown",
   "metadata": {},
   "source": [
    "In the two cells below, we construct a parity plot to compare Alchemy directly to DFT, and we evaluate the magnitude of the absolute errors (AE's) and compare to the mean aboluste error (MAE) for each material studied."
   ]
  },
  {
   "cell_type": "code",
   "execution_count": 70,
   "metadata": {},
   "outputs": [
    {
     "data": {
      "image/png": "[encoded data removed]",
      "text/plain": [
       "<Figure size 432x288 with 1 Axes>"
      ]
     },
     "metadata": {
      "needs_background": "light"
     },
     "output_type": "display_data"
    }
   ],
   "source": [
    "from matplotlib import pyplot as plot\n",
    "plot.scatter(alc_data['deltaBE_alc'],alc_data['deltaBE_dft'],c='g')\n",
    "plot.plot([-0.55,0.05],[-0.55,0.05])\n",
    "plot.title('Benchmarking BE prediction of H on Pt with Alchemy')\n",
    "plot.xlabel('BE DFT')\n",
    "plot.ylabel('BE Alchemy')\n",
    "plot.show()"
   ]
  },
  {
   "cell_type": "code",
   "execution_count": 83,
   "metadata": {},
   "outputs": [
    {
     "data": {
      "image/png": "[encoded data removed]",
      "text/plain": [
       "<Figure size 432x288 with 1 Axes>"
      ]
     },
     "metadata": {
      "needs_background": "light"
     },
     "output_type": "display_data"
    }
   ],
   "source": [
    "mean_abs_error = np.average(alc_data['absolute errors'])\n",
    "\n",
    "plot.bar(alc_data['label'],alc_data['absolute errors'])\n",
    "plot.plot(alc_data['label'],[mean_abs_error]*len(alc_data['label']),'k')\n",
    "plot.title('Absolute Errors of Alchemy compared to DFT')\n",
    "plot.xlabel('Label')\n",
    "plot.ylabel('Error (eV)')\n",
    "plot.legend(['MAE','AE'])\n",
    "plot.xticks(rotation=45)\n",
    "plot.show()"
   ]
  },
  {
   "cell_type": "markdown",
   "metadata": {},
   "source": [
    " We can observe from both figures that the errors are small for all but one material. We can visualize this material to see where the transmutations were made."
   ]
  },
  {
   "cell_type": "code",
   "execution_count": 99,
   "metadata": {},
   "outputs": [],
   "source": [
    "large_error_system = h_pt_Alc.loc[h_pt_Alc['label'] == '0.0.Au12.Ir0']['ads atoms object']\n",
    "view(large_error_system)"
   ]
  },
  {
   "cell_type": "markdown",
   "metadata": {},
   "source": [
    "Upon visualization, we can see that in this system, the transmutation was made at the site directly under the adsorbate. The large error is expected because the magnitude of the alchemical potentials at atoms near the adsorbate typical overestimate the magnitude of the alchemical derivative."
   ]
  },
  {
   "cell_type": "code",
   "execution_count": null,
   "metadata": {},
   "outputs": [],
   "source": []
  }
 ],
 "metadata": {
  "kernelspec": {
   "display_name": "Python 3",
   "language": "python",
   "name": "python3"
  },
  "language_info": {
   "codemirror_mode": {
    "name": "ipython",
    "version": 3
   },
   "file_extension": ".py",
   "mimetype": "text/x-python",
   "name": "python",
   "nbconvert_exporter": "python",
   "pygments_lexer": "ipython3",
   "version": "3.7.3"
  }
 },
 "nbformat": 4,
 "nbformat_minor": 2
}
